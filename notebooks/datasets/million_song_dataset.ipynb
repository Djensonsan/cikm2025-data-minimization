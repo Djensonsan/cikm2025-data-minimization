{
 "cells": [
  {
   "cell_type": "code",
   "metadata": {
    "ExecuteTime": {
     "end_time": "2025-05-20T11:07:26.769236Z",
     "start_time": "2025-05-20T11:07:26.767911Z"
    }
   },
   "source": [
    "import os\n",
    "import sys"
   ],
   "outputs": [],
   "execution_count": 1
  },
  {
   "cell_type": "code",
   "metadata": {
    "ExecuteTime": {
     "end_time": "2025-05-20T11:07:26.783285Z",
     "start_time": "2025-05-20T11:07:26.781698Z"
    }
   },
   "source": [
    "module_path = os.path.abspath(os.path.join('..'))\n",
    "if module_path not in sys.path:\n",
    "    sys.path.append(module_path)"
   ],
   "outputs": [],
   "execution_count": 2
  },
  {
   "cell_type": "code",
   "metadata": {
    "ExecuteTime": {
     "end_time": "2025-05-20T11:07:59.318554Z",
     "start_time": "2025-05-20T11:07:59.315705Z"
    }
   },
   "source": [
    "import numpy as np\n",
    "import pandas as pd\n",
    "import matplotlib.pyplot as plt\n",
    "import seaborn as sns"
   ],
   "outputs": [],
   "execution_count": 3
  },
  {
   "cell_type": "code",
   "metadata": {
    "ExecuteTime": {
     "end_time": "2025-05-20T11:07:59.736631Z",
     "start_time": "2025-05-20T11:07:59.709983Z"
    }
   },
   "source": [
    "from recpack.preprocessing.filters import MinItemsPerUser, MinUsersPerItem, Deduplicate\n",
    "from recpack.datasets import MillionSongDataset"
   ],
   "outputs": [
    {
     "name": "stderr",
     "output_type": "stream",
     "text": [
      "/Users/jens/PycharmProjects/minipack/venv/lib/python3.11/site-packages/tqdm/auto.py:21: TqdmWarning: IProgress not found. Please update jupyter and ipywidgets. See https://ipywidgets.readthedocs.io/en/stable/user_install.html\n",
      "  from .autonotebook import tqdm as notebook_tqdm\n"
     ]
    }
   ],
   "execution_count": 4
  },
  {
   "cell_type": "code",
   "metadata": {
    "ExecuteTime": {
     "end_time": "2025-05-20T11:07:59.937002Z",
     "start_time": "2025-05-20T11:07:59.929579Z"
    }
   },
   "source": [
    "from minipack.scenarios import ProportionalStratifiedStrongGeneralization, StrongGeneralization"
   ],
   "outputs": [],
   "execution_count": 5
  },
  {
   "cell_type": "code",
   "execution_count": 6,
   "metadata": {},
   "outputs": [],
   "source": [
    "from datetime import datetime\n",
    "from dateutil.relativedelta import relativedelta"
   ]
  },
  {
   "cell_type": "markdown",
   "metadata": {},
   "source": [
    "## Summary Statistics for Million Song Dataset"
   ]
  },
  {
   "cell_type": "code",
   "execution_count": 7,
   "metadata": {},
   "outputs": [],
   "source": [
    "def import_dataset():\n",
    "    dataset = MillionSongDataset(path='../data/', use_default_filters=False)    \n",
    "    dataset.add_filter(MinUsersPerItem(200, dataset.ITEM_IX, dataset.USER_IX))\n",
    "    dataset.add_filter(MinItemsPerUser(20, dataset.ITEM_IX, dataset.USER_IX))\n",
    "    dataset.add_filter(Deduplicate(dataset.USER_IX, dataset.ITEM_IX))\n",
    "    dataset.fetch_dataset()\n",
    "    return dataset"
   ]
  },
  {
   "cell_type": "code",
   "execution_count": 8,
   "metadata": {},
   "outputs": [
    {
     "name": "stderr",
     "output_type": "stream",
     "text": [
      "100%|███████████████████████████████████████████████████████████████████████████████████████████████████████| 33633450/33633450 [00:18<00:00, 1849225.08it/s]\n",
      "100%|███████████████████████████████████████████████████████████████████████████████████████████████████████| 33633450/33633450 [00:13<00:00, 2542504.17it/s]\n"
     ]
    }
   ],
   "source": [
    "dataset = import_dataset()\n",
    "data = dataset.load()"
   ]
  },
  {
   "cell_type": "code",
   "execution_count": 9,
   "metadata": {},
   "outputs": [
    {
     "data": {
      "text/plain": [
       "571355"
      ]
     },
     "execution_count": 9,
     "metadata": {},
     "output_type": "execute_result"
    }
   ],
   "source": [
    "data.num_active_users"
   ]
  },
  {
   "cell_type": "code",
   "execution_count": 10,
   "metadata": {},
   "outputs": [
    {
     "data": {
      "text/plain": [
       "33633450"
      ]
     },
     "execution_count": 10,
     "metadata": {},
     "output_type": "execute_result"
    }
   ],
   "source": [
    "data.num_interactions"
   ]
  },
  {
   "cell_type": "code",
   "execution_count": 11,
   "metadata": {},
   "outputs": [
    {
     "data": {
      "text/plain": [
       "41140"
      ]
     },
     "execution_count": 11,
     "metadata": {},
     "output_type": "execute_result"
    }
   ],
   "source": [
    "data.num_active_items"
   ]
  },
  {
   "cell_type": "code",
   "execution_count": 12,
   "metadata": {},
   "outputs": [
    {
     "data": {
      "text/plain": [
       "0.0014308730314171363"
      ]
     },
     "execution_count": 12,
     "metadata": {},
     "output_type": "execute_result"
    }
   ],
   "source": [
    "data.num_interactions / (data.num_active_users * data.num_active_items)"
   ]
  },
  {
   "cell_type": "markdown",
   "metadata": {},
   "source": [
    "### User Statistics (All Data)"
   ]
  },
  {
   "cell_type": "code",
   "execution_count": 13,
   "metadata": {},
   "outputs": [
    {
     "data": {
      "text/html": [
       "<div>\n",
       "<style scoped>\n",
       "    .dataframe tbody tr th:only-of-type {\n",
       "        vertical-align: middle;\n",
       "    }\n",
       "\n",
       "    .dataframe tbody tr th {\n",
       "        vertical-align: top;\n",
       "    }\n",
       "\n",
       "    .dataframe thead th {\n",
       "        text-align: right;\n",
       "    }\n",
       "</style>\n",
       "<table border=\"1\" class=\"dataframe\">\n",
       "  <thead>\n",
       "    <tr style=\"text-align: right;\">\n",
       "      <th></th>\n",
       "      <th>interactionid</th>\n",
       "      <th>uid</th>\n",
       "      <th>iid</th>\n",
       "    </tr>\n",
       "  </thead>\n",
       "  <tbody>\n",
       "    <tr>\n",
       "      <th>0</th>\n",
       "      <td>0</td>\n",
       "      <td>0</td>\n",
       "      <td>0</td>\n",
       "    </tr>\n",
       "    <tr>\n",
       "      <th>1</th>\n",
       "      <td>1</td>\n",
       "      <td>0</td>\n",
       "      <td>1</td>\n",
       "    </tr>\n",
       "    <tr>\n",
       "      <th>2</th>\n",
       "      <td>2</td>\n",
       "      <td>0</td>\n",
       "      <td>2</td>\n",
       "    </tr>\n",
       "    <tr>\n",
       "      <th>3</th>\n",
       "      <td>3</td>\n",
       "      <td>0</td>\n",
       "      <td>3</td>\n",
       "    </tr>\n",
       "    <tr>\n",
       "      <th>4</th>\n",
       "      <td>4</td>\n",
       "      <td>0</td>\n",
       "      <td>4</td>\n",
       "    </tr>\n",
       "  </tbody>\n",
       "</table>\n",
       "</div>"
      ],
      "text/plain": [
       "   interactionid  uid  iid\n",
       "0              0    0    0\n",
       "1              1    0    1\n",
       "2              2    0    2\n",
       "3              3    0    3\n",
       "4              4    0    4"
      ]
     },
     "execution_count": 13,
     "metadata": {},
     "output_type": "execute_result"
    }
   ],
   "source": [
    "data._df.head()"
   ]
  },
  {
   "cell_type": "code",
   "execution_count": 14,
   "metadata": {},
   "outputs": [],
   "source": [
    "interaction_count = data._df.groupby(['uid'])['iid'].count()"
   ]
  },
  {
   "cell_type": "code",
   "execution_count": 15,
   "metadata": {},
   "outputs": [
    {
     "data": {
      "text/plain": [
       "156.0"
      ]
     },
     "execution_count": 15,
     "metadata": {},
     "output_type": "execute_result"
    }
   ],
   "source": [
    "# 95% Quantile of Interactions\n",
    "interaction_count.quantile(0.95)"
   ]
  },
  {
   "cell_type": "markdown",
   "metadata": {},
   "source": [
    "95% of the user history legnths fall within the range [0, 156]. We create 5 bins between [0, 160] (rounded up for tidiness), which means we need bin widths of 32. Since we perform an 80-20% split for test in and test out data. We increase the bin width from 32 to 40 (32/0.8). This ensures that the data to be minimized (test in) has the number of interactions as defined by the bins."
   ]
  },
  {
   "cell_type": "code",
   "execution_count": 16,
   "metadata": {},
   "outputs": [
    {
     "data": {
      "text/plain": [
       "count    571355.000000\n",
       "mean         58.866117\n",
       "std          53.579894\n",
       "min          20.000000\n",
       "25%          27.000000\n",
       "50%          41.000000\n",
       "75%          70.000000\n",
       "max        1355.000000\n",
       "Name: iid, dtype: float64"
      ]
     },
     "execution_count": 16,
     "metadata": {},
     "output_type": "execute_result"
    }
   ],
   "source": [
    "interaction_count.describe()"
   ]
  },
  {
   "cell_type": "code",
   "execution_count": 17,
   "metadata": {},
   "outputs": [
    {
     "data": {
      "text/plain": [
       "<Axes: xlabel='iid'>"
      ]
     },
     "execution_count": 17,
     "metadata": {},
     "output_type": "execute_result"
    },
    {
     "data": {
      "image/png": "[encoded data removed]",
      "text/plain": [
       "<Figure size 640x480 with 1 Axes>"
      ]
     },
     "metadata": {},
     "output_type": "display_data"
    }
   ],
   "source": [
    "sns.violinplot(x=interaction_count)"
   ]
  },
  {
   "cell_type": "markdown",
   "metadata": {},
   "source": [
    "### User Stratification (All Data)"
   ]
  },
  {
   "cell_type": "code",
   "execution_count": 18,
   "metadata": {},
   "outputs": [
    {
     "name": "stderr",
     "output_type": "stream",
     "text": [
      "/Users/jens/.pyenv/versions/3.11.8/lib/python3.11/site-packages/seaborn/_oldcore.py:1119: FutureWarning: use_inf_as_na option is deprecated and will be removed in a future version. Convert inf values to NaN before operating instead.\n",
      "  with pd.option_context('mode.use_inf_as_na', True):\n"
     ]
    },
    {
     "data": {
      "image/png": "[encoded data removed]",
      "text/plain": [
       "<Figure size 640x480 with 1 Axes>"
      ]
     },
     "metadata": {},
     "output_type": "display_data"
    }
   ],
   "source": [
    "ax = sns.histplot(data=interaction_count, binwidth=40, binrange=[0, 200])\n",
    "ax.set_ylabel(\"Count\")\n",
    "ax.set_xlabel(\"History Length\")\n",
    "plt.show()"
   ]
  },
  {
   "cell_type": "code",
   "execution_count": 19,
   "metadata": {},
   "outputs": [],
   "source": [
    "# Calculating the number of users in each bin\n",
    "bin_range = np.arange(0, 201, 40) "
   ]
  },
  {
   "cell_type": "code",
   "execution_count": 20,
   "metadata": {},
   "outputs": [
    {
     "name": "stdout",
     "output_type": "stream",
     "text": [
      "[0, 40)       275296\n",
      "[40, 80)      181241\n",
      "[80, 120)      62315\n",
      "[120, 160)     25470\n",
      "[160, 200)     11971\n",
      "Name: count, dtype: int64\n"
     ]
    }
   ],
   "source": [
    "# Calculating the number of users in each bin using pd.cut\n",
    "users_per_bin = pd.cut(interaction_count, bins=bin_range, right=False)\n",
    "users_per_bin = users_per_bin.value_counts().sort_index()\n",
    "\n",
    "# Adjusting labels for clarity since the upper limit is exclusive\n",
    "bin_labels = [f\"[{bin_range[i]}, {bin_range[i+1]})\" for i in range(len(bin_range)-1)]\n",
    "users_per_bin.index = bin_labels\n",
    "\n",
    "# Creating an integer index\n",
    "# users_per_bin.index = range(len(users_per_bin))\n",
    "\n",
    "print(users_per_bin)"
   ]
  },
  {
   "cell_type": "code",
   "execution_count": 21,
   "metadata": {},
   "outputs": [
    {
     "name": "stdout",
     "output_type": "stream",
     "text": [
      "   bindex   bin_range  bin_fraction\n",
      "0       0     [0, 40)      0.494876\n",
      "1       1    [40, 80)      0.325801\n",
      "2       2   [80, 120)      0.112018\n",
      "3       3  [120, 160)      0.045785\n",
      "4       4  [160, 200)      0.021519\n"
     ]
    }
   ],
   "source": [
    "# Generate bin indices and bin ranges\n",
    "bin_indices = list(range(len(users_per_bin)))\n",
    "bin_ranges = [f\"[{bin_range[i]}, {bin_range[i+1]})\" for i in range(len(bin_range)-1)]\n",
    "\n",
    "# Calculate the total number of elements\n",
    "total_count = users_per_bin.sum()\n",
    "\n",
    "# Calculate the fraction of each bin compared to the whole\n",
    "bin_fractions = users_per_bin / total_count\n",
    "\n",
    "# Create a dictionary to hold the bin indices, counts, fractions, and ranges\n",
    "bin_dict = {\n",
    "    'bindex': bin_indices,\n",
    "    'bin_range': bin_ranges,\n",
    "    'bin_fraction': bin_fractions.values\n",
    "}\n",
    "\n",
    "# Convert dictionary to DataFrame (optional, if needed for merging later)\n",
    "bin_df = pd.DataFrame(bin_dict)\n",
    "\n",
    "print(bin_df)"
   ]
  },
  {
   "cell_type": "markdown",
   "metadata": {},
   "source": [
    "### Scenario"
   ]
  },
  {
   "cell_type": "code",
   "execution_count": 30,
   "metadata": {},
   "outputs": [
    {
     "name": "stderr",
     "output_type": "stream",
     "text": [
      "24743it [00:02, 9106.75it/s]\n",
      "16290it [00:01, 9065.63it/s]\n",
      "5600it [00:00, 8898.42it/s]\n",
      "2289it [00:00, 8702.99it/s]\n",
      "1078it [00:00, 8380.88it/s]\n",
      "50000it [00:05, 8900.52it/s]\n",
      "494it [00:00, 9177.58it/s]\n",
      "325it [00:00, 9146.50it/s]\n",
      "112it [00:00, 8030.53it/s]\n",
      "45it [00:00, 6454.32it/s]\n",
      "24it [00:00, 5825.42it/s]\n"
     ]
    }
   ],
   "source": [
    "scenario = ProportionalStratifiedStrongGeneralization(num_users_test=50000, num_users_val=50000, num_users_est=1000, bin_width=40, bin_range=[0, 200], validation=True, estimation=True, seed=42)\n",
    "scenario.split(data)"
   ]
  },
  {
   "cell_type": "code",
   "execution_count": 31,
   "metadata": {},
   "outputs": [],
   "source": [
    "full_train = scenario.full_training_data\n",
    "val_train = scenario.validation_training_data\n",
    "val_in = scenario.validation_data_in\n",
    "val_out = scenario.validation_data_out\n",
    "test_in = scenario.test_data_in\n",
    "test_out = scenario.test_data_out"
   ]
  },
  {
   "cell_type": "code",
   "execution_count": 32,
   "metadata": {},
   "outputs": [
    {
     "data": {
      "text/plain": [
       "50000"
      ]
     },
     "execution_count": 32,
     "metadata": {},
     "output_type": "execute_result"
    }
   ],
   "source": [
    "test_in.num_active_users"
   ]
  },
  {
   "cell_type": "code",
   "execution_count": 33,
   "metadata": {},
   "outputs": [
    {
     "data": {
      "text/plain": [
       "50000"
      ]
     },
     "execution_count": 33,
     "metadata": {},
     "output_type": "execute_result"
    }
   ],
   "source": [
    "val_in.num_active_users"
   ]
  },
  {
   "cell_type": "code",
   "execution_count": 34,
   "metadata": {},
   "outputs": [
    {
     "data": {
      "text/plain": [
       "42.61178"
      ]
     },
     "execution_count": 34,
     "metadata": {},
     "output_type": "execute_result"
    }
   ],
   "source": [
    "test_avg_interactions = test_in.num_interactions / test_in.num_active_users\n",
    "test_avg_interactions"
   ]
  },
  {
   "cell_type": "code",
   "execution_count": 35,
   "metadata": {},
   "outputs": [
    {
     "data": {
      "text/plain": [
       "33633450"
      ]
     },
     "execution_count": 35,
     "metadata": {},
     "output_type": "execute_result"
    }
   ],
   "source": [
    "data.num_interactions"
   ]
  },
  {
   "cell_type": "markdown",
   "metadata": {},
   "source": [
    "### User Stratification (Test Data)"
   ]
  },
  {
   "cell_type": "code",
   "execution_count": 36,
   "metadata": {},
   "outputs": [
    {
     "data": {
      "text/plain": [
       "[24743, 16290, 5600, 2289, 1078]"
      ]
     },
     "execution_count": 36,
     "metadata": {},
     "output_type": "execute_result"
    }
   ],
   "source": [
    "[test_data_bin.num_active_users for test_data_bin in scenario.test_data_in_bins]"
   ]
  },
  {
   "cell_type": "code",
   "execution_count": 37,
   "metadata": {},
   "outputs": [
    {
     "data": {
      "text/plain": [
       "[22.61261771005941,\n",
       " 45.04622467771639,\n",
       " 77.23607142857144,\n",
       " 109.70511140235911,\n",
       " 142.5278293135436]"
      ]
     },
     "execution_count": 37,
     "metadata": {},
     "output_type": "execute_result"
    }
   ],
   "source": [
    "[test_data_bin.num_interactions / test_data_bin.num_active_users for test_data_bin in scenario.test_data_in_bins]"
   ]
  }
 ],
 "metadata": {
  "kernelspec": {
   "display_name": "Python 3 (ipykernel)",
   "language": "python",
   "name": "python3"
  },
  "language_info": {
   "codemirror_mode": {
    "name": "ipython",
    "version": 3
   },
   "file_extension": ".py",
   "mimetype": "text/x-python",
   "name": "python",
   "nbconvert_exporter": "python",
   "pygments_lexer": "ipython3",
   "version": "3.11.8"
  },
  "varInspector": {
   "cols": {
    "lenName": 16,
    "lenType": 16,
    "lenVar": 40
   },
   "kernels_config": {
    "python": {
     "delete_cmd_postfix": "",
     "delete_cmd_prefix": "del ",
     "library": "var_list.py",
     "varRefreshCmd": "print(var_dic_list())"
    },
    "r": {
     "delete_cmd_postfix": ") ",
     "delete_cmd_prefix": "rm(",
     "library": "var_list.r",
     "varRefreshCmd": "cat(var_dic_list()) "
    }
   },
   "types_to_exclude": [
    "module",
    "function",
    "builtin_function_or_method",
    "instance",
    "_Feature"
   ],
   "window_display": false
  }
 },
 "nbformat": 4,
 "nbformat_minor": 4
}

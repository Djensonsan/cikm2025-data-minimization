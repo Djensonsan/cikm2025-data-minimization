{
 "cells": [
  {
   "cell_type": "code",
   "execution_count": 7,
   "metadata": {},
   "outputs": [],
   "source": [
    "import os\n",
    "import sys"
   ]
  },
  {
   "cell_type": "code",
   "execution_count": 8,
   "metadata": {},
   "outputs": [],
   "source": [
    "module_path = os.path.abspath(os.path.join('..'))\n",
    "if module_path not in sys.path:\n",
    "    sys.path.append(module_path)"
   ]
  },
  {
   "cell_type": "code",
   "execution_count": 9,
   "metadata": {},
   "outputs": [],
   "source": [
    "import numpy as np\n",
    "import pandas as pd\n",
    "import matplotlib.pyplot as plt\n",
    "import seaborn as sns"
   ]
  },
  {
   "cell_type": "code",
   "execution_count": 10,
   "metadata": {},
   "outputs": [],
   "source": [
    "from recpack.preprocessing.filters import MinItemsPerUser, MinUsersPerItem, MinRating, Deduplicate\n",
    "from recpack.datasets import MovieLens25M"
   ]
  },
  {
   "cell_type": "code",
   "execution_count": 11,
   "metadata": {},
   "outputs": [],
   "source": [
    "from minipack.scenarios import ProportionalStratifiedStrongGeneralization, StrongGeneralization"
   ]
  },
  {
   "cell_type": "code",
   "execution_count": 12,
   "metadata": {},
   "outputs": [],
   "source": [
    "from datetime import datetime\n",
    "from dateutil.relativedelta import relativedelta"
   ]
  },
  {
   "cell_type": "markdown",
   "metadata": {},
   "source": [
    "## Summary Statistics for MovieLens25M"
   ]
  },
  {
   "cell_type": "code",
   "execution_count": 13,
   "metadata": {},
   "outputs": [],
   "source": [
    "def import_dataset():\n",
    "    dataset = MovieLens25M(path='../data/', use_default_filters=False)\n",
    "    dataset.add_filter(MinRating(4, dataset.RATING_IX))\n",
    "    dataset.add_filter(MinUsersPerItem(5, dataset.ITEM_IX, dataset.USER_IX))\n",
    "    dataset.add_filter(MinItemsPerUser(5, dataset.ITEM_IX, dataset.USER_IX))\n",
    "    dataset.add_filter(Deduplicate(dataset.USER_IX, dataset.ITEM_IX))\n",
    "    dataset.fetch_dataset()\n",
    "    return dataset"
   ]
  },
  {
   "cell_type": "code",
   "execution_count": 14,
   "metadata": {},
   "outputs": [
    {
     "name": "stderr",
     "output_type": "stream",
     "text": [
      "100%|███████████████████████████████████████████████████████████████████████████████████████████████████| 12411450/12411450 [00:05<00:00, 2139165.31it/s]\n",
      "100%|███████████████████████████████████████████████████████████████████████████████████████████████████| 12411450/12411450 [00:05<00:00, 2285872.27it/s]\n"
     ]
    }
   ],
   "source": [
    "dataset = import_dataset()\n",
    "data = dataset.load()"
   ]
  },
  {
   "cell_type": "code",
   "execution_count": 15,
   "metadata": {},
   "outputs": [
    {
     "data": {
      "text/plain": [
       "160770"
      ]
     },
     "execution_count": 15,
     "metadata": {},
     "output_type": "execute_result"
    }
   ],
   "source": [
    "data.num_active_users"
   ]
  },
  {
   "cell_type": "code",
   "execution_count": 16,
   "metadata": {},
   "outputs": [
    {
     "data": {
      "text/plain": [
       "12411450"
      ]
     },
     "execution_count": 16,
     "metadata": {},
     "output_type": "execute_result"
    }
   ],
   "source": [
    "data.num_interactions"
   ]
  },
  {
   "cell_type": "code",
   "execution_count": 17,
   "metadata": {
    "scrolled": true
   },
   "outputs": [
    {
     "data": {
      "text/plain": [
       "19937"
      ]
     },
     "execution_count": 17,
     "metadata": {},
     "output_type": "execute_result"
    }
   ],
   "source": [
    "data.num_active_items"
   ]
  },
  {
   "cell_type": "code",
   "execution_count": 18,
   "metadata": {},
   "outputs": [
    {
     "data": {
      "text/plain": [
       "0.003872199293795235"
      ]
     },
     "execution_count": 18,
     "metadata": {},
     "output_type": "execute_result"
    }
   ],
   "source": [
    "data.num_interactions / (data.num_active_users * data.num_active_items)"
   ]
  },
  {
   "cell_type": "markdown",
   "metadata": {},
   "source": [
    "### User Statistics (All Data)"
   ]
  },
  {
   "cell_type": "code",
   "execution_count": 19,
   "metadata": {},
   "outputs": [
    {
     "data": {
      "text/html": [
       "<div>\n",
       "<style scoped>\n",
       "    .dataframe tbody tr th:only-of-type {\n",
       "        vertical-align: middle;\n",
       "    }\n",
       "\n",
       "    .dataframe tbody tr th {\n",
       "        vertical-align: top;\n",
       "    }\n",
       "\n",
       "    .dataframe thead th {\n",
       "        text-align: right;\n",
       "    }\n",
       "</style>\n",
       "<table border=\"1\" class=\"dataframe\">\n",
       "  <thead>\n",
       "    <tr style=\"text-align: right;\">\n",
       "      <th></th>\n",
       "      <th>interactionid</th>\n",
       "      <th>uid</th>\n",
       "      <th>iid</th>\n",
       "      <th>ts</th>\n",
       "    </tr>\n",
       "  </thead>\n",
       "  <tbody>\n",
       "    <tr>\n",
       "      <th>0</th>\n",
       "      <td>0</td>\n",
       "      <td>0</td>\n",
       "      <td>0</td>\n",
       "      <td>1147880044</td>\n",
       "    </tr>\n",
       "    <tr>\n",
       "      <th>1</th>\n",
       "      <td>1</td>\n",
       "      <td>0</td>\n",
       "      <td>1</td>\n",
       "      <td>1147868828</td>\n",
       "    </tr>\n",
       "    <tr>\n",
       "      <th>2</th>\n",
       "      <td>2</td>\n",
       "      <td>0</td>\n",
       "      <td>2</td>\n",
       "      <td>1147878820</td>\n",
       "    </tr>\n",
       "    <tr>\n",
       "      <th>3</th>\n",
       "      <td>3</td>\n",
       "      <td>0</td>\n",
       "      <td>3</td>\n",
       "      <td>1147868495</td>\n",
       "    </tr>\n",
       "    <tr>\n",
       "      <th>4</th>\n",
       "      <td>4</td>\n",
       "      <td>0</td>\n",
       "      <td>4</td>\n",
       "      <td>1147868839</td>\n",
       "    </tr>\n",
       "  </tbody>\n",
       "</table>\n",
       "</div>"
      ],
      "text/plain": [
       "   interactionid  uid  iid          ts\n",
       "0              0    0    0  1147880044\n",
       "1              1    0    1  1147868828\n",
       "2              2    0    2  1147878820\n",
       "3              3    0    3  1147868495\n",
       "4              4    0    4  1147868839"
      ]
     },
     "execution_count": 19,
     "metadata": {},
     "output_type": "execute_result"
    }
   ],
   "source": [
    "data._df.head()"
   ]
  },
  {
   "cell_type": "code",
   "execution_count": 20,
   "metadata": {},
   "outputs": [],
   "source": [
    "interaction_count = data._df.groupby(['uid'])['iid'].count()"
   ]
  },
  {
   "cell_type": "code",
   "execution_count": 21,
   "metadata": {},
   "outputs": [
    {
     "data": {
      "text/plain": [
       "pandas.core.series.Series"
      ]
     },
     "execution_count": 21,
     "metadata": {},
     "output_type": "execute_result"
    }
   ],
   "source": [
    "type(interaction_count)"
   ]
  },
  {
   "cell_type": "code",
   "execution_count": 22,
   "metadata": {},
   "outputs": [
    {
     "data": {
      "text/plain": [
       "262.0"
      ]
     },
     "execution_count": 22,
     "metadata": {},
     "output_type": "execute_result"
    }
   ],
   "source": [
    "# 95% Quantile of Interactions\n",
    "interaction_count.quantile(0.95)"
   ]
  },
  {
   "cell_type": "markdown",
   "metadata": {},
   "source": [
    "95% of the user history legnths fall within the range [0, 261]. We create 5 bins between [0, 270] (rounded up for tidiness), which means we need bin widths of 54. Since we perform an 80-20% split for test in and test out data. We increase the bin width from 54 to 67.5 (54/0.8). This ensures that the data to be minimized (test in) has the number of interactions as defined by the bins."
   ]
  },
  {
   "cell_type": "code",
   "execution_count": 23,
   "metadata": {},
   "outputs": [
    {
     "data": {
      "text/plain": [
       "count    160770.000000\n",
       "mean         77.200037\n",
       "std         107.790676\n",
       "min           5.000000\n",
       "25%          21.000000\n",
       "50%          41.000000\n",
       "75%          90.000000\n",
       "max        3211.000000\n",
       "Name: iid, dtype: float64"
      ]
     },
     "execution_count": 23,
     "metadata": {},
     "output_type": "execute_result"
    }
   ],
   "source": [
    "interaction_count.describe()"
   ]
  },
  {
   "cell_type": "code",
   "execution_count": 24,
   "metadata": {},
   "outputs": [
    {
     "data": {
      "text/plain": [
       "<Axes: xlabel='iid'>"
      ]
     },
     "execution_count": 24,
     "metadata": {},
     "output_type": "execute_result"
    },
    {
     "data": {
      "image/png": "[encoded data removed]",
      "text/plain": [
       "<Figure size 640x480 with 1 Axes>"
      ]
     },
     "metadata": {},
     "output_type": "display_data"
    }
   ],
   "source": [
    "sns.violinplot(x=interaction_count)"
   ]
  },
  {
   "cell_type": "markdown",
   "metadata": {},
   "source": [
    "### User Stratification (All Data)"
   ]
  },
  {
   "cell_type": "code",
   "execution_count": 25,
   "metadata": {},
   "outputs": [
    {
     "name": "stderr",
     "output_type": "stream",
     "text": [
      "/Users/jens/.pyenv/versions/3.11.8/lib/python3.11/site-packages/seaborn/_oldcore.py:1119: FutureWarning: use_inf_as_na option is deprecated and will be removed in a future version. Convert inf values to NaN before operating instead.\n",
      "  with pd.option_context('mode.use_inf_as_na', True):\n"
     ]
    },
    {
     "data": {
      "image/png": "[encoded data removed]",
      "text/plain": [
       "<Figure size 640x480 with 1 Axes>"
      ]
     },
     "metadata": {},
     "output_type": "display_data"
    }
   ],
   "source": [
    "ax = sns.histplot(data=interaction_count, binwidth=67.5, binrange=[0, 337.5])\n",
    "ax.set_ylabel(\"Count\")\n",
    "ax.set_xlabel(\"History Length\")\n",
    "plt.show()"
   ]
  },
  {
   "cell_type": "code",
   "execution_count": 26,
   "metadata": {},
   "outputs": [],
   "source": [
    "# Calculating the number of users in each bin\n",
    "bin_range = np.arange(0, 338, 67.5)  "
   ]
  },
  {
   "cell_type": "code",
   "execution_count": 27,
   "metadata": {},
   "outputs": [
    {
     "data": {
      "text/plain": [
       "array([  0. ,  67.5, 135. , 202.5, 270. , 337.5])"
      ]
     },
     "execution_count": 27,
     "metadata": {},
     "output_type": "execute_result"
    }
   ],
   "source": [
    "bin_range"
   ]
  },
  {
   "cell_type": "code",
   "execution_count": 28,
   "metadata": {},
   "outputs": [
    {
     "name": "stdout",
     "output_type": "stream",
     "text": [
      "[0.0, 67.5)       107271\n",
      "[67.5, 135.0)      29033\n",
      "[135.0, 202.5)     11470\n",
      "[202.5, 270.0)      5394\n",
      "[270.0, 337.5)      2893\n",
      "Name: count, dtype: int64\n"
     ]
    }
   ],
   "source": [
    "# Calculating the number of users in each bin using pd.cut\n",
    "users_per_bin = pd.cut(interaction_count, bins=bin_range, right=False)\n",
    "users_per_bin = users_per_bin.value_counts().sort_index()\n",
    "\n",
    "# Adjusting labels for clarity since the upper limit is exclusive\n",
    "bin_labels = [f\"[{bin_range[i]}, {bin_range[i+1]})\" for i in range(len(bin_range)-1)]\n",
    "users_per_bin.index = bin_labels\n",
    "\n",
    "# Creating an integer index\n",
    "# users_per_bin.index = range(len(users_per_bin))\n",
    "\n",
    "print(users_per_bin)"
   ]
  },
  {
   "cell_type": "code",
   "execution_count": 29,
   "metadata": {},
   "outputs": [
    {
     "name": "stdout",
     "output_type": "stream",
     "text": [
      "   bindex       bin_range  bin_fraction\n",
      "0       0     [0.0, 67.5)      0.687366\n",
      "1       1   [67.5, 135.0)      0.186036\n",
      "2       2  [135.0, 202.5)      0.073497\n",
      "3       3  [202.5, 270.0)      0.034563\n",
      "4       4  [270.0, 337.5)      0.018538\n"
     ]
    }
   ],
   "source": [
    "# Generate bin indices and bin ranges\n",
    "bin_indices = list(range(len(users_per_bin)))\n",
    "bin_ranges = [f\"[{bin_range[i]}, {bin_range[i+1]})\" for i in range(len(bin_range)-1)]\n",
    "\n",
    "# Calculate the total number of elements\n",
    "total_count = users_per_bin.sum()\n",
    "\n",
    "# Calculate the fraction of each bin compared to the whole\n",
    "bin_fractions = users_per_bin / total_count\n",
    "\n",
    "# Create a dictionary to hold the bin indices, counts, fractions, and ranges\n",
    "bin_dict = {\n",
    "    'bindex': bin_indices,\n",
    "    'bin_range': bin_ranges,\n",
    "    'bin_fraction': bin_fractions.values\n",
    "}\n",
    "\n",
    "# Convert dictionary to DataFrame (optional, if needed for merging later)\n",
    "bin_df = pd.DataFrame(bin_dict)\n",
    "\n",
    "print(bin_df)"
   ]
  },
  {
   "cell_type": "markdown",
   "metadata": {},
   "source": [
    "### Scenario"
   ]
  },
  {
   "cell_type": "code",
   "execution_count": 30,
   "metadata": {},
   "outputs": [
    {
     "name": "stderr",
     "output_type": "stream",
     "text": [
      "6873it [00:00, 8887.25it/s]\n",
      "1860it [00:00, 8688.71it/s]\n",
      "734it [00:00, 8449.41it/s]\n",
      "345it [00:00, 8030.38it/s]\n",
      "188it [00:00, 7609.82it/s]\n",
      "40000it [00:04, 8791.69it/s]\n",
      "687it [00:00, 8979.45it/s]\n",
      "185it [00:00, 8285.69it/s]\n",
      "73it [00:00, 7591.78it/s]\n",
      "33it [00:00, 6595.13it/s]\n",
      "22it [00:00, 5580.91it/s]\n"
     ]
    }
   ],
   "source": [
    "scenario = ProportionalStratifiedStrongGeneralization(num_users_test=10000, num_users_val=40000, num_users_est=1000, bin_width=67.5, bin_range=[0, 337.5], validation=True, estimation=True, seed=42)\n",
    "scenario.split(data)"
   ]
  },
  {
   "cell_type": "code",
   "execution_count": 31,
   "metadata": {},
   "outputs": [],
   "source": [
    "full_train = scenario.full_training_data\n",
    "val_train = scenario.validation_training_data\n",
    "val_in = scenario.validation_data_in\n",
    "val_out = scenario.validation_data_out\n",
    "test_in = scenario.test_data_in\n",
    "test_out = scenario.test_data_out"
   ]
  },
  {
   "cell_type": "code",
   "execution_count": 32,
   "metadata": {},
   "outputs": [
    {
     "data": {
      "text/plain": [
       "10000"
      ]
     },
     "execution_count": 32,
     "metadata": {},
     "output_type": "execute_result"
    }
   ],
   "source": [
    "test_in.num_active_users"
   ]
  },
  {
   "cell_type": "code",
   "execution_count": 33,
   "metadata": {},
   "outputs": [
    {
     "data": {
      "text/plain": [
       "514250"
      ]
     },
     "execution_count": 33,
     "metadata": {},
     "output_type": "execute_result"
    }
   ],
   "source": [
    "test_in.num_interactions"
   ]
  },
  {
   "cell_type": "code",
   "execution_count": 34,
   "metadata": {},
   "outputs": [
    {
     "data": {
      "text/plain": [
       "51.425"
      ]
     },
     "execution_count": 34,
     "metadata": {},
     "output_type": "execute_result"
    }
   ],
   "source": [
    "test_avg_interactions = test_in.num_interactions / test_in.num_active_users\n",
    "test_avg_interactions"
   ]
  },
  {
   "cell_type": "code",
   "execution_count": 35,
   "metadata": {},
   "outputs": [
    {
     "data": {
      "text/plain": [
       "40000"
      ]
     },
     "execution_count": 35,
     "metadata": {},
     "output_type": "execute_result"
    }
   ],
   "source": [
    "val_in.num_active_users"
   ]
  },
  {
   "cell_type": "code",
   "execution_count": 36,
   "metadata": {},
   "outputs": [
    {
     "data": {
      "text/plain": [
       "12411450"
      ]
     },
     "execution_count": 36,
     "metadata": {},
     "output_type": "execute_result"
    }
   ],
   "source": [
    "data.num_interactions"
   ]
  },
  {
   "cell_type": "markdown",
   "metadata": {},
   "source": [
    "### User Stratification (Test Data)"
   ]
  },
  {
   "cell_type": "code",
   "execution_count": 37,
   "metadata": {},
   "outputs": [
    {
     "data": {
      "text/plain": [
       "[6873, 1860, 734, 345, 188]"
      ]
     },
     "execution_count": 37,
     "metadata": {},
     "output_type": "execute_result"
    }
   ],
   "source": [
    "[test_data_bin.num_active_users for test_data_bin in scenario.test_data_in_bins]"
   ]
  },
  {
   "cell_type": "code",
   "execution_count": 38,
   "metadata": {},
   "outputs": [
    {
     "data": {
      "text/plain": [
       "[23.99854503128183,\n",
       " 77.02258064516128,\n",
       " 131.80926430517712,\n",
       " 185.99710144927536,\n",
       " 240.04787234042553]"
      ]
     },
     "execution_count": 38,
     "metadata": {},
     "output_type": "execute_result"
    }
   ],
   "source": [
    "[test_data_bin.num_interactions / test_data_bin.num_active_users for test_data_bin in scenario.test_data_in_bins]"
   ]
  }
 ],
 "metadata": {
  "kernelspec": {
   "display_name": "Python 3 (ipykernel)",
   "language": "python",
   "name": "python3"
  },
  "language_info": {
   "codemirror_mode": {
    "name": "ipython",
    "version": 3
   },
   "file_extension": ".py",
   "mimetype": "text/x-python",
   "name": "python",
   "nbconvert_exporter": "python",
   "pygments_lexer": "ipython3",
   "version": "3.11.8"
  },
  "varInspector": {
   "cols": {
    "lenName": 16,
    "lenType": 16,
    "lenVar": 40
   },
   "kernels_config": {
    "python": {
     "delete_cmd_postfix": "",
     "delete_cmd_prefix": "del ",
     "library": "var_list.py",
     "varRefreshCmd": "print(var_dic_list())"
    },
    "r": {
     "delete_cmd_postfix": ") ",
     "delete_cmd_prefix": "rm(",
     "library": "var_list.r",
     "varRefreshCmd": "cat(var_dic_list()) "
    }
   },
   "types_to_exclude": [
    "module",
    "function",
    "builtin_function_or_method",
    "instance",
    "_Feature"
   ],
   "window_display": false
  }
 },
 "nbformat": 4,
 "nbformat_minor": 4
}
